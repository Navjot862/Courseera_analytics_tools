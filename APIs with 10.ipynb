{
  "nbformat": 4,
  "nbformat_minor": 0,
  "metadata": {
    "kernelspec": {
      "display_name": "Python 3",
      "language": "python",
      "name": "python3"
    },
    "language_info": {
      "codemirror_mode": {
        "name": "ipython",
        "version": 3
      },
      "file_extension": ".py",
      "mimetype": "text/x-python",
      "name": "python",
      "nbconvert_exporter": "python",
      "pygments_lexer": "ipython3",
      "version": "3.6.5"
    },
    "colab": {
      "name": "APIs.ipynb",
      "provenance": []
    },
    "accelerator": "GPU"
  },
  "cells": [
    {
      "cell_type": "code",
      "metadata": {
        "id": "uqyY-hd0EX9b",
        "colab": {
          "base_uri": "https://localhost:8080/"
        },
        "outputId": "b4160026-c130-45ae-bee7-563bd27395bd"
      },
      "source": [
        "##Installing required librariries\r\n",
        "!pip install azure-cognitiveservices-language-textanalytics\r\n",
        "!pip install azure-ai-textanalytics --pre\r\n",
        "!pip install pandas"
      ],
      "execution_count": 16,
      "outputs": [
        {
          "output_type": "stream",
          "text": [
            "Requirement already satisfied: azure-cognitiveservices-language-textanalytics in /usr/local/lib/python3.6/dist-packages (0.2.0)\n",
            "Requirement already satisfied: msrest>=0.5.0 in /usr/local/lib/python3.6/dist-packages (from azure-cognitiveservices-language-textanalytics) (0.6.19)\n",
            "Requirement already satisfied: azure-common~=1.1 in /usr/local/lib/python3.6/dist-packages (from azure-cognitiveservices-language-textanalytics) (1.1.26)\n",
            "Requirement already satisfied: requests~=2.16 in /usr/local/lib/python3.6/dist-packages (from msrest>=0.5.0->azure-cognitiveservices-language-textanalytics) (2.23.0)\n",
            "Requirement already satisfied: certifi>=2017.4.17 in /usr/local/lib/python3.6/dist-packages (from msrest>=0.5.0->azure-cognitiveservices-language-textanalytics) (2020.12.5)\n",
            "Requirement already satisfied: requests-oauthlib>=0.5.0 in /usr/local/lib/python3.6/dist-packages (from msrest>=0.5.0->azure-cognitiveservices-language-textanalytics) (1.3.0)\n",
            "Requirement already satisfied: isodate>=0.6.0 in /usr/local/lib/python3.6/dist-packages (from msrest>=0.5.0->azure-cognitiveservices-language-textanalytics) (0.6.0)\n",
            "Requirement already satisfied: idna<3,>=2.5 in /usr/local/lib/python3.6/dist-packages (from requests~=2.16->msrest>=0.5.0->azure-cognitiveservices-language-textanalytics) (2.10)\n",
            "Requirement already satisfied: chardet<4,>=3.0.2 in /usr/local/lib/python3.6/dist-packages (from requests~=2.16->msrest>=0.5.0->azure-cognitiveservices-language-textanalytics) (3.0.4)\n",
            "Requirement already satisfied: urllib3!=1.25.0,!=1.25.1,<1.26,>=1.21.1 in /usr/local/lib/python3.6/dist-packages (from requests~=2.16->msrest>=0.5.0->azure-cognitiveservices-language-textanalytics) (1.24.3)\n",
            "Requirement already satisfied: oauthlib>=3.0.0 in /usr/local/lib/python3.6/dist-packages (from requests-oauthlib>=0.5.0->msrest>=0.5.0->azure-cognitiveservices-language-textanalytics) (3.1.0)\n",
            "Requirement already satisfied: six in /usr/local/lib/python3.6/dist-packages (from isodate>=0.6.0->msrest>=0.5.0->azure-cognitiveservices-language-textanalytics) (1.15.0)\n",
            "Requirement already satisfied: azure-ai-textanalytics in /usr/local/lib/python3.6/dist-packages (5.1.0b4)\n",
            "Requirement already satisfied: azure-core<2.0.0,>=1.8.2 in /usr/local/lib/python3.6/dist-packages (from azure-ai-textanalytics) (1.10.0)\n",
            "Requirement already satisfied: msrest>=0.6.0 in /usr/local/lib/python3.6/dist-packages (from azure-ai-textanalytics) (0.6.19)\n",
            "Requirement already satisfied: six>=1.6 in /usr/local/lib/python3.6/dist-packages (from azure-ai-textanalytics) (1.15.0)\n",
            "Requirement already satisfied: azure-common~=1.1 in /usr/local/lib/python3.6/dist-packages (from azure-ai-textanalytics) (1.1.26)\n",
            "Requirement already satisfied: requests>=2.18.4 in /usr/local/lib/python3.6/dist-packages (from azure-core<2.0.0,>=1.8.2->azure-ai-textanalytics) (2.23.0)\n",
            "Requirement already satisfied: requests-oauthlib>=0.5.0 in /usr/local/lib/python3.6/dist-packages (from msrest>=0.6.0->azure-ai-textanalytics) (1.3.0)\n",
            "Requirement already satisfied: isodate>=0.6.0 in /usr/local/lib/python3.6/dist-packages (from msrest>=0.6.0->azure-ai-textanalytics) (0.6.0)\n",
            "Requirement already satisfied: certifi>=2017.4.17 in /usr/local/lib/python3.6/dist-packages (from msrest>=0.6.0->azure-ai-textanalytics) (2020.12.5)\n",
            "Requirement already satisfied: idna<3,>=2.5 in /usr/local/lib/python3.6/dist-packages (from requests>=2.18.4->azure-core<2.0.0,>=1.8.2->azure-ai-textanalytics) (2.10)\n",
            "Requirement already satisfied: urllib3!=1.25.0,!=1.25.1,<1.26,>=1.21.1 in /usr/local/lib/python3.6/dist-packages (from requests>=2.18.4->azure-core<2.0.0,>=1.8.2->azure-ai-textanalytics) (1.24.3)\n",
            "Requirement already satisfied: chardet<4,>=3.0.2 in /usr/local/lib/python3.6/dist-packages (from requests>=2.18.4->azure-core<2.0.0,>=1.8.2->azure-ai-textanalytics) (3.0.4)\n",
            "Requirement already satisfied: oauthlib>=3.0.0 in /usr/local/lib/python3.6/dist-packages (from requests-oauthlib>=0.5.0->msrest>=0.6.0->azure-ai-textanalytics) (3.1.0)\n",
            "Requirement already satisfied: pandas in /usr/local/lib/python3.6/dist-packages (1.1.5)\n",
            "Requirement already satisfied: pytz>=2017.2 in /usr/local/lib/python3.6/dist-packages (from pandas) (2018.9)\n",
            "Requirement already satisfied: numpy>=1.15.4 in /usr/local/lib/python3.6/dist-packages (from pandas) (1.19.5)\n",
            "Requirement already satisfied: python-dateutil>=2.7.3 in /usr/local/lib/python3.6/dist-packages (from pandas) (2.8.1)\n",
            "Requirement already satisfied: six>=1.5 in /usr/local/lib/python3.6/dist-packages (from python-dateutil>=2.7.3->pandas) (1.15.0)\n"
          ],
          "name": "stdout"
        }
      ]
    },
    {
      "cell_type": "code",
      "metadata": {
        "id": "JLyU2QqBfn2J",
        "outputId": "a20cbd5a-7ca2-47df-fd51-6f4923cf13cb",
        "colab": {
          "base_uri": "https://localhost:8080/"
        }
      },
      "source": [
        "##clone github code\r\n",
        "!git clone https://github.com/Navjot862/Courseera_analytics_tools"
      ],
      "execution_count": 3,
      "outputs": [
        {
          "output_type": "stream",
          "text": [
            "Cloning into 'Courseera_analytics_tools'...\n",
            "remote: Enumerating objects: 108, done.\u001b[K\n",
            "remote: Counting objects: 100% (108/108), done.\u001b[K\n",
            "remote: Compressing objects: 100% (107/107), done.\u001b[K\n",
            "remote: Total 108 (delta 50), reused 0 (delta 0), pack-reused 0\u001b[K\n",
            "Receiving objects: 100% (108/108), 541.57 KiB | 2.34 MiB/s, done.\n",
            "Resolving deltas: 100% (50/50), done.\n"
          ],
          "name": "stdout"
        }
      ]
    },
    {
      "cell_type": "code",
      "metadata": {
        "id": "uN9iwn_EiebF"
      },
      "source": [
        "import pandas as pd\r\n",
        "from azure.ai.textanalytics import TextAnalyticsClient\r\n",
        "from azure.core.credentials import AzureKeyCredential"
      ],
      "execution_count": 5,
      "outputs": []
    },
    {
      "cell_type": "code",
      "metadata": {
        "id": "H5AchVI7hraF"
      },
      "source": [
        "##Reading Data\r\n",
        "df=pd.read_csv(\"/content/Courseera_analytics_tools/d4.csv\")"
      ],
      "execution_count": 6,
      "outputs": []
    },
    {
      "cell_type": "code",
      "metadata": {
        "id": "SXcgbxKYDsUc"
      },
      "source": [
        "key = \"486d8e2ede2d413f8219a98bc6219cad\"\n",
        "endpoint = \"https://text65.cognitiveservices.azure.com/\""
      ],
      "execution_count": 13,
      "outputs": []
    },
    {
      "cell_type": "code",
      "metadata": {
        "id": "VMbEpDPiR4qN",
        "outputId": "900dd5a9-601b-4152-c201-5722c60790fd",
        "colab": {
          "base_uri": "https://localhost:8080/"
        }
      },
      "source": [
        "Client=TextAnalyticsClient(endpoint,AzureKeyCredential(key))"
      ],
      "execution_count": 15,
      "outputs": [
        {
          "output_type": "execute_result",
          "data": {
            "text/plain": [
              "<azure.ai.textanalytics._text_analytics_client.TextAnalyticsClient at 0x7f0c5fc77be0>"
            ]
          },
          "metadata": {
            "tags": []
          },
          "execution_count": 15
        }
      ]
    },
    {
      "cell_type": "code",
      "metadata": {
        "id": "VcziK1gs8_uo",
        "outputId": "daade0c0-057b-4d12-a883-bceeded8a650",
        "colab": {
          "base_uri": "https://localhost:8080/"
        }
      },
      "source": [
        "list(df['Review'])"
      ],
      "execution_count": 89,
      "outputs": [
        {
          "output_type": "execute_result",
          "data": {
            "text/plain": [
              "['good and interesting',\n",
              " \"This class is very helpful to me. Currently, I'm still learning this class which makes up a lot of basic music knowledge.\"]"
            ]
          },
          "metadata": {
            "tags": []
          },
          "execution_count": 89
        }
      ]
    },
    {
      "cell_type": "code",
      "metadata": {
        "id": "dg_g7HWjlZ5d"
      },
      "source": [
        "client = authenticate_client()\r\n",
        "# documents=parsed\r\n",
        "response = client.analyze_sentiment(list(df1['Review']))"
      ],
      "execution_count": 90,
      "outputs": []
    },
    {
      "cell_type": "code",
      "metadata": {
        "id": "qeGL5ipOAvDD"
      },
      "source": [
        "?client.analyze_sentiment"
      ],
      "execution_count": 111,
      "outputs": []
    },
    {
      "cell_type": "code",
      "metadata": {
        "id": "tshxMbVU0GEJ",
        "outputId": "2d29daa2-9ee5-45a2-c4f9-4c072ee7bf72",
        "colab": {
          "base_uri": "https://localhost:8080/"
        }
      },
      "source": [
        "type(response)"
      ],
      "execution_count": 91,
      "outputs": [
        {
          "output_type": "execute_result",
          "data": {
            "text/plain": [
              "list"
            ]
          },
          "metadata": {
            "tags": []
          },
          "execution_count": 91
        }
      ]
    },
    {
      "cell_type": "code",
      "metadata": {
        "id": "ZikQs8Ar9mAN",
        "outputId": "7998183b-c773-49e9-8fcb-c2b915c67ef5",
        "colab": {
          "base_uri": "https://localhost:8080/"
        }
      },
      "source": [
        "response"
      ],
      "execution_count": 92,
      "outputs": [
        {
          "output_type": "execute_result",
          "data": {
            "text/plain": [
              "[AnalyzeSentimentResult(id=0, sentiment=positive, warnings=[], statistics=None, confidence_scores=SentimentConfidenceScores(positive=1.0, neutral=0.0, negative=0.0), sentences=[SentenceSentiment(text=good and interesting, sentiment=positive, confidence_scores=SentimentConfidenceScores(positive=1.0, neutral=0.0, negative=0.0), offset=0, mined_opinions=[])], is_error=False),\n",
              " AnalyzeSentimentResult(id=1, sentiment=positive, warnings=[], statistics=None, confidence_scores=SentimentConfidenceScores(positive=0.99, neutral=0.01, negative=0.0), sentences=[SentenceSentiment(text=This class is very helpful to me., sentiment=positive, confidence_scores=SentimentConfidenceScores(positive=1.0, neutral=0.0, negative=0.0), offset=0, mined_opinions=[]), SentenceSentiment(text=Currently, I'm still learning this class which makes up a lot of basic music knowledge., sentiment=positive, confidence_scores=SentimentConfidenceScores(positive=0.98, neutral=0.01, negative=0.01), offset=34, mined_opinions=[])], is_error=False)]"
            ]
          },
          "metadata": {
            "tags": []
          },
          "execution_count": 92
        }
      ]
    },
    {
      "cell_type": "code",
      "metadata": {
        "id": "h_Ns3F7y95UO"
      },
      "source": [
        "op=dict(response[1])"
      ],
      "execution_count": 94,
      "outputs": []
    },
    {
      "cell_type": "code",
      "metadata": {
        "id": "-azdv850BTLO",
        "outputId": "b2b40af3-6288-449d-9165-5894709b7196",
        "colab": {
          "base_uri": "https://localhost:8080/"
        }
      },
      "source": [
        "op"
      ],
      "execution_count": 113,
      "outputs": [
        {
          "output_type": "execute_result",
          "data": {
            "text/plain": [
              "{'confidence_scores': SentimentConfidenceScores(positive=0.99, neutral=0.01, negative=0.0),\n",
              " 'id': '1',\n",
              " 'is_error': False,\n",
              " 'sentences': [SentenceSentiment(text=This class is very helpful to me., sentiment=positive, confidence_scores=SentimentConfidenceScores(positive=1.0, neutral=0.0, negative=0.0), offset=0, mined_opinions=[]),\n",
              "  SentenceSentiment(text=Currently, I'm still learning this class which makes up a lot of basic music knowledge., sentiment=positive, confidence_scores=SentimentConfidenceScores(positive=0.98, neutral=0.01, negative=0.01), offset=34, mined_opinions=[])],\n",
              " 'sentiment': 'positive',\n",
              " 'statistics': None,\n",
              " 'warnings': []}"
            ]
          },
          "metadata": {
            "tags": []
          },
          "execution_count": 113
        }
      ]
    },
    {
      "cell_type": "code",
      "metadata": {
        "id": "6EIy55qM-u9o"
      },
      "source": [
        "sentiment=op['sentiment']"
      ],
      "execution_count": 102,
      "outputs": []
    },
    {
      "cell_type": "code",
      "metadata": {
        "id": "faIGWipt-1Va"
      },
      "source": [
        "confidence_score=op['confidence_scores']"
      ],
      "execution_count": 103,
      "outputs": []
    },
    {
      "cell_type": "code",
      "metadata": {
        "id": "HGqqVI39_Rlf",
        "outputId": "7780ea4e-bf62-4e15-bfba-38b490baabab",
        "colab": {
          "base_uri": "https://localhost:8080/"
        }
      },
      "source": [
        "confidence_score"
      ],
      "execution_count": 104,
      "outputs": [
        {
          "output_type": "execute_result",
          "data": {
            "text/plain": [
              "SentimentConfidenceScores(positive=0.99, neutral=0.01, negative=0.0)"
            ]
          },
          "metadata": {
            "tags": []
          },
          "execution_count": 104
        }
      ]
    },
    {
      "cell_type": "code",
      "metadata": {
        "id": "uGXtEuk2_duq",
        "outputId": "f2c136b7-0c4f-44eb-d75d-c2fcb939a7da",
        "colab": {
          "base_uri": "https://localhost:8080/"
        }
      },
      "source": [
        "dict(confidence_score)['negative']\r\n",
        "dict(confidence_score)['positive']\r\n",
        "dict(confidence_score)['neutral']"
      ],
      "execution_count": 110,
      "outputs": [
        {
          "output_type": "execute_result",
          "data": {
            "text/plain": [
              "0.01"
            ]
          },
          "metadata": {
            "tags": []
          },
          "execution_count": 110
        }
      ]
    },
    {
      "cell_type": "code",
      "metadata": {
        "id": "JrB9D0pODsUe"
      },
      "source": [
        "def sentiment_analysis(client):\n",
        "\n",
        "    documents = parsed\n",
        "    for i in range(10):\n",
        "        response = client.analyze_sentiment(documents = documents)[i]\n",
        "        print(\"Document Sentiment: {}\".format(response.sentiment))\n",
        "        print(\"Overall scores: positive={0:.2f}; neutral={1:.2f}; negative={2:.2f} \\n\".format(\n",
        "            response.confidence_scores.positive,\n",
        "            response.confidence_scores.neutral,\n",
        "            response.confidence_scores.negative,\n",
        "        ))\n",
        "        for idx, sentence in enumerate(response.sentences):\n",
        "            print(\"Sentence: {}\".format(sentence.text))\n",
        "            print(\"Sentence {} sentiment: {}\".format(idx+1, sentence.sentiment))\n",
        "            print(\"Sentence score:\\nPositive={0:.2f}\\nNeutral={1:.2f}\\nNegative={2:.2f}\\n\".format(\n",
        "                sentence.confidence_scores.positive,\n",
        "                sentence.confidence_scores.neutral,\n",
        "                sentence.confidence_scores.negative,\n",
        "            ))\n",
        "          "
      ],
      "execution_count": 17,
      "outputs": []
    },
    {
      "cell_type": "code",
      "metadata": {
        "id": "HIQWmmdlj2dk"
      },
      "source": [
        ""
      ],
      "execution_count": null,
      "outputs": []
    }
  ]
}