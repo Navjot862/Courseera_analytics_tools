{
 "cells": [
  {
   "cell_type": "markdown",
   "metadata": {},
   "source": [
    "#### Install the package to access azure"
   ]
  },
  {
   "cell_type": "code",
   "execution_count": 4,
   "metadata": {},
   "outputs": [
    {
     "name": "stdout",
     "output_type": "stream",
     "text": [
      "Collecting azure-cognitiveservices-language-textanalytics\n",
      "  Downloading azure_cognitiveservices_language_textanalytics-0.2.0-py2.py3-none-any.whl (43 kB)\n",
      "Requirement already satisfied: azure-common~=1.1 in c:\\users\\m1060561\\appdata\\local\\continuum\\anaconda3\\lib\\site-packages (from azure-cognitiveservices-language-textanalytics) (1.1.26)\n",
      "Requirement already satisfied: msrest>=0.5.0 in c:\\users\\m1060561\\appdata\\local\\continuum\\anaconda3\\lib\\site-packages (from azure-cognitiveservices-language-textanalytics) (0.6.19)\n",
      "Requirement already satisfied: requests-oauthlib>=0.5.0 in c:\\users\\m1060561\\appdata\\local\\continuum\\anaconda3\\lib\\site-packages (from msrest>=0.5.0->azure-cognitiveservices-language-textanalytics) (1.3.0)\n",
      "Requirement already satisfied: requests~=2.16 in c:\\users\\m1060561\\appdata\\local\\continuum\\anaconda3\\lib\\site-packages (from msrest>=0.5.0->azure-cognitiveservices-language-textanalytics) (2.25.0)\n",
      "Requirement already satisfied: certifi>=2017.4.17 in c:\\users\\m1060561\\appdata\\local\\continuum\\anaconda3\\lib\\site-packages (from msrest>=0.5.0->azure-cognitiveservices-language-textanalytics) (2020.12.5)\n",
      "Requirement already satisfied: isodate>=0.6.0 in c:\\users\\m1060561\\appdata\\local\\continuum\\anaconda3\\lib\\site-packages (from msrest>=0.5.0->azure-cognitiveservices-language-textanalytics) (0.6.0)\n",
      "Requirement already satisfied: six in c:\\users\\m1060561\\appdata\\local\\continuum\\anaconda3\\lib\\site-packages (from isodate>=0.6.0->msrest>=0.5.0->azure-cognitiveservices-language-textanalytics) (1.15.0)\n",
      "Requirement already satisfied: chardet<4,>=3.0.2 in c:\\users\\m1060561\\appdata\\local\\continuum\\anaconda3\\lib\\site-packages (from requests~=2.16->msrest>=0.5.0->azure-cognitiveservices-language-textanalytics) (3.0.4)\n",
      "Requirement already satisfied: urllib3<1.27,>=1.21.1 in c:\\users\\m1060561\\appdata\\local\\continuum\\anaconda3\\lib\\site-packages (from requests~=2.16->msrest>=0.5.0->azure-cognitiveservices-language-textanalytics) (1.22)\n",
      "Requirement already satisfied: idna<3,>=2.5 in c:\\users\\m1060561\\appdata\\local\\continuum\\anaconda3\\lib\\site-packages (from requests~=2.16->msrest>=0.5.0->azure-cognitiveservices-language-textanalytics) (2.6)\n",
      "Requirement already satisfied: oauthlib>=3.0.0 in c:\\users\\m1060561\\appdata\\local\\continuum\\anaconda3\\lib\\site-packages (from requests-oauthlib>=0.5.0->msrest>=0.5.0->azure-cognitiveservices-language-textanalytics) (3.1.0)\n",
      "Installing collected packages: azure-cognitiveservices-language-textanalytics\n",
      "Successfully installed azure-cognitiveservices-language-textanalytics-0.2.0\n"
     ]
    }
   ],
   "source": [
    "#!pip install azure-cognitiveservices-language-textanalytics"
   ]
  },
  {
   "cell_type": "markdown",
   "metadata": {},
   "source": [
    "#### Key is the valid subscription key for the azure \n",
    "#### Endpoint will also be provided with the cognitive services API"
   ]
  },
  {
   "cell_type": "markdown",
   "metadata": {},
   "source": [
    "### Sentiment "
   ]
  },
  {
   "cell_type": "code",
   "execution_count": 1,
   "metadata": {},
   "outputs": [],
   "source": [
    "import os\n",
    "from azure.cognitiveservices.language.textanalytics import TextAnalyticsClient\n",
    "from msrest.authentication import CognitiveServicesCredentials\n",
    "\n",
    "key = \"6fee284f42b44d498812c5f2cf125b07\"\n",
    "endpoint = \"https://trial2.cognitiveservices.azure.com/\"\n",
    "\n",
    "\n",
    "# <authentication>\n",
    "def authenticateClient():\n",
    "    credentials = CognitiveServicesCredentials(key)\n",
    "    text_analytics_client = TextAnalyticsClient(\n",
    "        endpoint=endpoint, credentials=credentials)\n",
    "    return text_analytics_client\n",
    "# </authentication>"
   ]
  },
  {
   "cell_type": "code",
   "execution_count": 2,
   "metadata": {},
   "outputs": [
    {
     "name": "stdout",
     "output_type": "stream",
     "text": [
      "Document Id:  1 , Sentiment Score:  0.87\n",
      "Document Id:  2 , Sentiment Score:  0.06\n",
      "Document Id:  3 , Sentiment Score:  0.44\n",
      "Document Id:  4 , Sentiment Score:  1.00\n"
     ]
    }
   ],
   "source": [
    "\"\"\"Sentiment.\n",
    "Scores close to 1 indicate positive sentiment, while scores close to 0 indicate negative sentiment.\n",
    "\"\"\"\n",
    "\n",
    "# <sentimentAnalysis>\n",
    "def sentiment():\n",
    "    \n",
    "    client = authenticateClient()\n",
    "\n",
    "    try:\n",
    "        documents = [\n",
    "            {\"id\": \"1\", \"language\": \"en\", \"text\": \"I had the best day of my life.\"},\n",
    "            {\"id\": \"2\", \"language\": \"en\",\n",
    "                \"text\": \"This was a waste of my time. The speaker put me to sleep.\"},\n",
    "            {\"id\": \"3\", \"language\": \"es\", \"text\": \"No tengo dinero ni nada que dar...\"},\n",
    "            {\"id\": \"4\", \"language\": \"it\",\n",
    "                \"text\": \"L'hotel veneziano era meraviglioso. È un bellissimo pezzo di architettura.\"}\n",
    "        ]\n",
    "\n",
    "        response = client.sentiment(documents=documents)\n",
    "        for document in response.documents:\n",
    "            print(\"Document Id: \", document.id, \", Sentiment Score: \",\n",
    "                  \"{:.2f}\".format(document.score))\n",
    "\n",
    "    except Exception as err:\n",
    "        print(\"Encountered exception. {}\".format(err))\n",
    "sentiment()\n",
    "# </sentimentAnalysis> "
   ]
  },
  {
   "cell_type": "markdown",
   "metadata": {},
   "source": [
    "#### NER"
   ]
  },
  {
   "cell_type": "code",
   "execution_count": 11,
   "metadata": {},
   "outputs": [
    {
     "name": "stdout",
     "output_type": "stream",
     "text": [
      "Document Id:  1\n",
      "\tKey Entities:\n",
      "\t\t NAME:  Microsoft \tType:  Organization \tSub-type:  None\n",
      "\t\t\tOffset:  0 \tLength:  9 \tScore:  1.00\n",
      "\t\t NAME:  Bill Gates \tType:  Person \tSub-type:  None\n",
      "\t\t\tOffset:  25 \tLength:  10 \tScore:  1.00\n",
      "\t\t NAME:  Paul Allen \tType:  Person \tSub-type:  None\n",
      "\t\t\tOffset:  40 \tLength:  10 \tScore:  1.00\n",
      "\t\t NAME:  April 4 \tType:  Other \tSub-type:  None\n",
      "Encountered exception. unsupported format string passed to NoneType.__format__\n"
     ]
    }
   ],
   "source": [
    "\"\"\"EntityRecognition.\n",
    "EExtracts the entities from sentences and prints out their properties.\n",
    "\"\"\"\n",
    "\n",
    "# <entityRecognition>\n",
    "def entity_recognition():\n",
    "    \n",
    "    client = authenticateClient()\n",
    "\n",
    "    try:\n",
    "        documents = [\n",
    "            {\"id\": \"1\", \"language\": \"en\", \"text\": \"Microsoft was founded by Bill Gates and Paul Allen on April 4, 1975, to develop and sell BASIC interpreters for the Altair 8800.\"},\n",
    "            {\"id\": \"2\", \"language\": \"en\",\"text\": \"Google News is a news aggregator service developed by Google.\"}]\n",
    "        response = client.entities(documents=documents)\n",
    "\n",
    "        for document in response.documents:\n",
    "            print(\"Document Id: \", document.id)\n",
    "            print(\"\\tKey Entities:\")\n",
    "            for entity in document.entities:\n",
    "                print(\"\\t\\t\", \"NAME: \", entity.name, \"\\tType: \",\n",
    "                      entity.type, \"\\tSub-type: \", entity.sub_type)\n",
    "                for match in entity.matches:\n",
    "                    print(\"\\t\\t\\tOffset: \", match.offset, \"\\tLength: \", match.length, \"\\tScore: \",\n",
    "                          \"{:.2f}\".format(match.entity_type_score))\n",
    "\n",
    "    except Exception as err:\n",
    "        print(\"Encountered exception. {}\".format(err))\n",
    "entity_recognition()\n",
    "# </entityRecognition>"
   ]
  },
  {
   "cell_type": "code",
   "execution_count": null,
   "metadata": {},
   "outputs": [],
   "source": []
  }
 ],
 "metadata": {
  "kernelspec": {
   "display_name": "Python 3",
   "language": "python",
   "name": "python3"
  },
  "language_info": {
   "codemirror_mode": {
    "name": "ipython",
    "version": 3
   },
   "file_extension": ".py",
   "mimetype": "text/x-python",
   "name": "python",
   "nbconvert_exporter": "python",
   "pygments_lexer": "ipython3",
   "version": "3.6.5"
  }
 },
 "nbformat": 4,
 "nbformat_minor": 2
}
